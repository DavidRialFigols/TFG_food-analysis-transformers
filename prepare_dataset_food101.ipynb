{
 "cells": [
  {
   "cell_type": "code",
   "execution_count": 1,
   "metadata": {},
   "outputs": [],
   "source": [
    "import os\n",
    "from glob import glob"
   ]
  },
  {
   "cell_type": "code",
   "execution_count": 2,
   "metadata": {},
   "outputs": [],
   "source": [
    "folder = \"./food-101\"\n",
    "train_file = folder + \"/meta/train.txt\" \n",
    "test_file = folder + \"/meta/test.txt\""
   ]
  },
  {
   "cell_type": "code",
   "execution_count": 3,
   "metadata": {},
   "outputs": [],
   "source": [
    "#create folders\n",
    "os.system(f\"mkdir {folder}/train\")\n",
    "os.system(f\"mkdir {folder}/test\")\n",
    "for cat in glob(f\"{folder}/images/*\"):\n",
    "    os.system(f\"mkdir {folder}/train/{cat[cat.rfind('/')+1:]}\")\n",
    "    os.system(f\"mkdir {folder}/test/{cat[cat.rfind('/')+1:]}\")"
   ]
  },
  {
   "cell_type": "code",
   "execution_count": 4,
   "metadata": {},
   "outputs": [],
   "source": [
    "#move images\n",
    "ftrain = open(train_file, 'r')\n",
    "for line in ftrain.readlines():\n",
    "    os.system(f\"mv {folder}/images/{line[:-1]}.jpg {folder}/train/{line[:-1]}.jpg\")\n",
    "ftrain.close()\n",
    "ftest = open(test_file, 'r')\n",
    "for line in ftest.readlines():\n",
    "    os.system(f\"mv {folder}/images/{line[:-1]}.jpg {folder}/test/{line[:-1]}.jpg\")\n",
    "ftest.close()\n"
   ]
  },
  {
   "cell_type": "code",
   "execution_count": 5,
   "metadata": {},
   "outputs": [
    {
     "data": {
      "text/plain": [
       "0"
      ]
     },
     "execution_count": 5,
     "metadata": {},
     "output_type": "execute_result"
    }
   ],
   "source": [
    "#rm old folders\n",
    "os.system(f\"rm -r {folder}/images\")\n",
    "os.system(f\"rm -r {folder}/meta\")"
   ]
  },
  {
   "cell_type": "code",
   "execution_count": null,
   "metadata": {},
   "outputs": [],
   "source": []
  }
 ],
 "metadata": {
  "kernelspec": {
   "display_name": "Python 3",
   "language": "python",
   "name": "python3"
  },
  "language_info": {
   "codemirror_mode": {
    "name": "ipython",
    "version": 3
   },
   "file_extension": ".py",
   "mimetype": "text/x-python",
   "name": "python",
   "nbconvert_exporter": "python",
   "pygments_lexer": "ipython3",
   "version": "3.8.5"
  }
 },
 "nbformat": 4,
 "nbformat_minor": 4
}
